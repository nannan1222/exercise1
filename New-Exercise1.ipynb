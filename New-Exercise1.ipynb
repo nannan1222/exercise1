{
 "cells": [
  {
   "cell_type": "code",
   "execution_count": 1,
   "metadata": {},
   "outputs": [
    {
     "name": "stdout",
     "output_type": "stream",
     "text": [
      "A Brief Profile of C. Dickens in 508 characters\n",
      "Hello. My name is Charles Dickens.\n",
      "I am an English novelist. I was born on February 7, 1812, in Portsmouth, England.\n",
      "I am most famous as a writer of the Victorian era.\n",
      "I married Catherine Hogarth in 1836. We have ten children.\n",
      "Some of my most famous works include \"A christmas carol\", \"oliver Twist\", \"David Copperfield\", and \"Great Expectations\".\n",
      "Besides being a writer, my other talent was doing dramatic public readings of my work.\n",
      "I died on June 9, 1870, at my home in Gad's Hill Place, Kent, England.\n",
      "OOPS!!Sorry, your output text does not match the test text.\n"
     ]
    }
   ],
   "source": [
    "# Given variables  \n",
    "name = \"Charles Dickens\"  \n",
    "dob = \"February 7,1812\"  \n",
    "birthplace = \"Portsmouth, England\"  \n",
    "famous_for = \"a writer of the Victorian era\"  \n",
    "married_to = \"Catherine Hogarth\"  \n",
    "year_of_marriage = \"1836\"  \n",
    "number_of_children = \"ten\"  \n",
    "famous_works = '\"A christmas carol\", \"oliver Twist\", \"David Copperfield\", and \"Great Expectations\"'  \n",
    "other_talent = \"doing dramatic public readings of my work\"  \n",
    "death_date = \"June 9, 1870\"  \n",
    "place_of_death = \"Gad's Hill Place, Kent, England\"  \n",
    "  \n",
    "# Preparing the title  \n",
    "title = f\"A Brief Profile of C. Dickens in 508 characters\"\n",
    "\n",
    "output_text = (\n",
    "    f\"{title}\\n\"\n",
    "    f\"Hello. My name is {name}.\\n\"\n",
    "    f\"I am an English novelist. I was born on {dob.replace(',', ', ')}, in {birthplace}.\\n\"\n",
    "    f\"I am most famous as {famous_for}.\\n\"\n",
    "    f\"I married {married_to} in {year_of_marriage}. We have {number_of_children} children.\\n\"\n",
    "    f\"Some of my most famous works include {famous_works}.\\n\"\n",
    "    f\"Besides being a writer, my other talent was {other_talent}.\\n\"\n",
    "    f\"I died on {death_date}, at my home in {place_of_death}.\"\n",
    ")\n",
    "\n",
    "    \n",
    "# Printing the output text  \n",
    "print(output_text)  \n",
    "  \n",
    "# Preparing the test text with corrections  \n",
    "test_text = f\"\"\"A Brief Profile of C. Dickens in 508 characters.  \n",
    "Hello. My name is Charles Dickens.  \n",
    "I am an English novelist. I was born on February 7, 1812, in Portsmouth, England. \n",
    "I am most famous as a writer of the Victorian era.  \n",
    "I married Catherine Hogarth in 1836. We have ten children.  \n",
    "Some of my most famous works include \"A christmas carol\", \"oliver Twist\", \"David Copperfield\", and \"Great Expectations\". \n",
    "Besides being a writer, my other talent was doing dramatic public readings of my work. \n",
    "I died on June 9, 1870, at my home in Gad's Hill Place, Kent, England.\"\"\"\n",
    "  \n",
    "# Comparing the output text with the test text  \n",
    "if output_text == test_text:  \n",
    "    print(\"SUCCESS! Yes, your output text matches the test text.\")  \n",
    "else:  \n",
    "    print(\"OOPS!!Sorry, your output text does not match the test text.\")"
   ]
  }
 ],
 "metadata": {
  "kernelspec": {
   "display_name": "base",
   "language": "python",
   "name": "python3"
  },
  "language_info": {
   "codemirror_mode": {
    "name": "ipython",
    "version": 3
   },
   "file_extension": ".py",
   "mimetype": "text/x-python",
   "name": "python",
   "nbconvert_exporter": "python",
   "pygments_lexer": "ipython3",
   "version": "3.11.7"
  }
 },
 "nbformat": 4,
 "nbformat_minor": 2
}
